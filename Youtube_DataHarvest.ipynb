{
  "nbformat": 4,
  "nbformat_minor": 0,
  "metadata": {
    "colab": {
      "provenance": [],
      "authorship_tag": "ABX9TyNC3nvNult34AAXHrM5L2su",
      "include_colab_link": true
    },
    "kernelspec": {
      "name": "python3",
      "display_name": "Python 3"
    },
    "language_info": {
      "name": "python"
    }
  },
  "cells": [
    {
      "cell_type": "markdown",
      "metadata": {
        "id": "view-in-github",
        "colab_type": "text"
      },
      "source": [
        "<a href=\"https://colab.research.google.com/github/123prith/Prithivi/blob/main/Youtube_DataHarvest.ipynb\" target=\"_parent\"><img src=\"https://colab.research.google.com/assets/colab-badge.svg\" alt=\"Open In Colab\"/></a>"
      ]
    },
    {
      "cell_type": "code",
      "execution_count": null,
      "metadata": {
        "id": "MH3BIHK1gMVc"
      },
      "outputs": [],
      "source": [
        "import pandas as pd\n",
        "import numpy as np\n",
        "import matplotlib.pyplot as plt\n",
        "import seaborn as sns\n",
        "from scipy.stats import linregress\n",
        "from sklearn.model_selection import train_test_split\n",
        "from sklearn.linear_model import LinearRegression\n",
        "from sklearn.preprocessing import LabelEncoder\n",
        "from sklearn.linear_model import LinearRegression,Lasso,Ridge,ElasticNet\n",
        "from sklearn.metrics import mean_squared_error,r2_score\n",
        "import math"
      ]
    },
    {
      "cell_type": "code",
      "source": [
        "data= pd.read_csv(\"/content/resale-flat-prices-based-on-approval-date-1990-1999.csv\")\n",
        "data\n"
      ],
      "metadata": {
        "id": "xvFgaa36ghUV"
      },
      "execution_count": null,
      "outputs": []
    },
    {
      "cell_type": "code",
      "source": [
        "data.columns = data.columns.str.lower().str.replace(' ','_')\n"
      ],
      "metadata": {
        "id": "uQxO_YNVgitE"
      },
      "execution_count": null,
      "outputs": []
    },
    {
      "cell_type": "code",
      "source": [
        "data.drop('floor_area_sqm', axis = 1, inplace = True)"
      ],
      "metadata": {
        "id": "S0ULV7GDgnAX"
      },
      "execution_count": null,
      "outputs": []
    },
    {
      "cell_type": "code",
      "source": [
        "for x in data.columns:\n",
        "    print(x, len(data[x].unique()))\n",
        "    if len(data[x].unique()) == 1:\n",
        "        data.drop(x, axis=1, inplace=True)\n",
        "        print(f'{x} column dropped due to having only 1 unique value')\n",
        "        print()"
      ],
      "metadata": {
        "id": "jU8Yu9Qfgp4E"
      },
      "execution_count": null,
      "outputs": []
    },
    {
      "cell_type": "code",
      "source": [
        "data.drop('town',axis = 1, inplace=True)\n"
      ],
      "metadata": {
        "id": "zzE3amGhgs7h"
      },
      "execution_count": null,
      "outputs": []
    },
    {
      "cell_type": "code",
      "source": [
        "data.select_dtypes(include='object').columns\n"
      ],
      "metadata": {
        "id": "uYWJysgngy8K"
      },
      "execution_count": null,
      "outputs": []
    },
    {
      "cell_type": "code",
      "source": [
        "X = data['floor_area_sqm'].to_frame()\n",
        "y = data['resale_price']\n",
        "\n",
        "X_train, X_test, y_train, y_test = train_test_split(X, y, random_state=5)\n",
        "\n",
        "#no skew no scale\n",
        "lr = LinearRegression()\n",
        "lr.fit(X_train, y_train)\n",
        "print(lr.intercept_)\n",
        "print(lr.coef_)\n",
        "print('Linear Regression score:',lr.score(X_train,y_train))\n",
        "ypred=lr.predict(X_test)\n",
        "print('Mean Squared Error: ',mean_squared_error(y_test,ypred))\n",
        "print('Root Mean Squared Error: ',np.sqrt(mean_squared_error(y_test,ypred)))\n",
        "print('Test Score: ',lr.score(X_test, y_test))\n",
        "print('Train Score: ', lr.score(X_train, y_train))"
      ],
      "metadata": {
        "id": "K8SHhdLbg1c9"
      },
      "execution_count": null,
      "outputs": []
    },
    {
      "cell_type": "code",
      "source": [
        "plt.figure(figsize=(10,6))\n",
        "plt.scatter(y_test, ypred)\n",
        "\n",
        "plt.plot([min(y_test), max(y_test)], [min(y_test), max(y_test)], color = 'lightpink', linestyle = 'dashed')\n",
        "plt.xlabel('Actual Price (SGD$ million)')\n",
        "plt.ylabel('Predicted Price (SGD$ million)')\n",
        "plt.title('Actual vs. Predicted Price - Baseline Model')\n",
        "plt.show()"
      ],
      "metadata": {
        "id": "8li2xRheg5oK"
      },
      "execution_count": null,
      "outputs": []
    },
    {
      "cell_type": "code",
      "source": [
        "sns.histplot(data=data, x= 'resale_price', bins=20, stat='count')\n",
        "plt.title('Resale Price Distribution for Resale Flats 2012-2021')\n",
        "plt.xlabel('Resale Price (SGD$ million)')"
      ],
      "metadata": {
        "id": "VzJnUVI9hEPB"
      },
      "execution_count": null,
      "outputs": []
    },
    {
      "cell_type": "code",
      "source": [
        "sns.histplot(data=data, x= 'resale_price', bins=20, stat='count')\n",
        "plt.title('Resale Price Distribution for Resale Flats 2012-2021')\n",
        "plt.xlabel('Resale Price (SGD$ million)')"
      ],
      "metadata": {
        "id": "q7-5x9AMhI2R"
      },
      "execution_count": null,
      "outputs": []
    },
    {
      "cell_type": "code",
      "source": [
        "data['storey_range'].unique()"
      ],
      "metadata": {
        "id": "qjogFtddhJ7o"
      },
      "execution_count": null,
      "outputs": []
    }
  ]
}